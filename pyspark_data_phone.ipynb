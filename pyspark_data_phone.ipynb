{
 "cells": [
  {
   "cell_type": "markdown",
   "metadata": {},
   "source": [
    "# CELL_PHONE data -- Feature Engineering"
   ]
  },
  {
   "cell_type": "markdown",
   "metadata": {},
   "source": [
    "# Imports"
   ]
  },
  {
   "cell_type": "code",
   "execution_count": 8,
   "metadata": {},
   "outputs": [
    {
     "data": {
      "application/vnd.jupyter.widget-view+json": {
       "model_id": "",
       "version_major": 2,
       "version_minor": 0
      },
      "text/plain": [
       "FloatProgress(value=0.0, bar_style='info', description='Progress:', layout=Layout(height='25px', width='50%'),…"
      ]
     },
     "metadata": {},
     "output_type": "display_data"
    }
   ],
   "source": [
    "import pyspark.sql.functions as F\n",
    "from pyspark.sql.types import *\n",
    "from pyspark.sql.window import Window\n",
    "from pyspark.sql import SparkSession"
   ]
  },
  {
   "cell_type": "code",
   "execution_count": 9,
   "metadata": {},
   "outputs": [
    {
     "data": {
      "application/vnd.jupyter.widget-view+json": {
       "model_id": "",
       "version_major": 2,
       "version_minor": 0
      },
      "text/plain": [
       "FloatProgress(value=0.0, bar_style='info', description='Progress:', layout=Layout(height='25px', width='50%'),…"
      ]
     },
     "metadata": {},
     "output_type": "display_data"
    }
   ],
   "source": [
    "spark = SparkSession.builder.config(\"spark.sql.shuffle.partitions\", \"200\").config(\"spark.executor.memory\", \"8g\").config(\"spark.executor.instances\", 20).appName('3G_2week').getOrCreate()"
   ]
  },
  {
   "cell_type": "code",
   "execution_count": 10,
   "metadata": {},
   "outputs": [
    {
     "data": {
      "application/vnd.jupyter.widget-view+json": {
       "model_id": "",
       "version_major": 2,
       "version_minor": 0
      },
      "text/plain": [
       "FloatProgress(value=0.0, bar_style='info', description='Progress:', layout=Layout(height='25px', width='50%'),…"
      ]
     },
     "metadata": {},
     "output_type": "display_data"
    }
   ],
   "source": [
    "import pandas as pd\n",
    "import numpy as np\n",
    "pd.set_option('display.float_format', lambda x: '%.2f' % x)"
   ]
  },
  {
   "cell_type": "code",
   "execution_count": 4,
   "metadata": {},
   "outputs": [],
   "source": [
    "%matplotlib inline"
   ]
  },
  {
   "cell_type": "code",
   "execution_count": 12,
   "metadata": {},
   "outputs": [
    {
     "data": {
      "application/vnd.jupyter.widget-view+json": {
       "model_id": "",
       "version_major": 2,
       "version_minor": 0
      },
      "text/plain": [
       "FloatProgress(value=0.0, bar_style='info', description='Progress:', layout=Layout(height='25px', width='50%'),…"
      ]
     },
     "metadata": {},
     "output_type": "display_data"
    }
   ],
   "source": [
    "df = spark.read.parquet('/user/ngwh3132/WORK/cancan_project/3G_2W/df_phone_data.parquet')"
   ]
  },
  {
   "cell_type": "code",
   "execution_count": 14,
   "metadata": {},
   "outputs": [
    {
     "data": {
      "application/vnd.jupyter.widget-view+json": {
       "model_id": "",
       "version_major": 2,
       "version_minor": 0
      },
      "text/plain": [
       "FloatProgress(value=0.0, bar_style='info', description='Progress:', layout=Layout(height='25px', width='50%'),…"
      ]
     },
     "metadata": {},
     "output_type": "display_data"
    },
    {
     "name": "stdout",
     "output_type": "stream",
     "text": [
      "+----------+--------------------+--------------------+------+---------+----------+-----------+-----+\n",
      "|        id|             ts_list|            pos_list|nb_cdr|day_night|ie_entropy|pos_entropy|   rg|\n",
      "+----------+--------------------+--------------------+------+---------+----------+-----------+-----+\n",
      "|0055555732|[1970-01-01 19:12...|[[113.84944,22.78...|     1|    [1,0]|      null|       null|  0.0|\n",
      "|0055555739|[1970-01-01 19:21...|[[114.06486,22.53...|     4|    [4,0]|      null|       null|  0.0|\n",
      "|0055556253|[1970-01-01 10:53...|[[114.03306,22.54...|     3|    [3,0]|      null|       null|  0.0|\n",
      "|0055556463|[1970-01-01 23:51...|[[114.042984,22.5...|     4|    [1,3]|      null|       0.41|3.566|\n",
      "|0055556863|[1970-01-01 11:13...|[[114.0634,22.574...|   312|[183,129]|[164,0.65]|       0.06|0.162|\n",
      "|0055557412|[1970-01-01 03:22...|[[114.05944,22.56...|     1|    [0,1]|      null|       null|  0.0|\n",
      "|0055557807|[1970-01-01 19:59...|[[114.06347,22.53...|    43|   [43,0]|[156,0.97]|       0.28| 0.33|\n",
      "|0055558022|[1970-01-01 18:46...|[[113.88229,22.79...|     4|    [4,0]|      null|       0.41|0.199|\n",
      "|0055558132|[1970-01-01 23:54...|[[114.00987,22.63...|    49|   [0,49]| [78,0.93]|       0.27|4.689|\n",
      "|0055558166|[1970-01-01 19:43...|[[113.888054,22.7...|     1|    [1,0]|      null|       null|  0.0|\n",
      "|0055558373|[1970-01-01 07:02...|[[114.05389,22.56...|     8|    [7,1]|[6870,1.0]|       0.83|2.542|\n",
      "|0055558442|[1970-01-01 11:18...|[[114.03472,22.57...|     1|    [1,0]|      null|       null|  0.0|\n",
      "|0055558812|[1970-01-01 22:36...|[[113.92125,22.78...|   189| [71,118]| [49,0.83]|       0.08|0.509|\n",
      "|0055559058|[1970-01-01 17:03...|[[113.90056,22.71...|     3|    [3,0]|      null|       0.58|1.419|\n",
      "|0055559128|[1970-01-01 08:46...|[[114.03479,22.54...|     2|    [2,0]|      null|        1.0|0.175|\n",
      "|0055559324|[1970-01-01 18:00...|[[114.04385,22.53...|     1|    [1,0]|      null|       null|  0.0|\n",
      "|0055559429|[1970-01-01 18:29...|[[113.88042,22.77...|    23|   [23,0]|[165,0.96]|        0.5|1.197|\n",
      "|0055559569|[1970-01-01 23:04...|[[114.04132,22.63...|   156|  [67,89]| [80,0.83]|       0.12|0.415|\n",
      "|0055559652|[1970-01-01 21:36...|[[114.06152,22.66...|   159| [52,107]| [519,0.8]|       0.07|1.267|\n",
      "|0055559760|[1970-01-01 21:36...|[[114.04826,22.59...|    17|   [16,1]|[259,0.88]|       0.28|0.214|\n",
      "+----------+--------------------+--------------------+------+---------+----------+-----------+-----+\n",
      "only showing top 20 rows"
     ]
    }
   ],
   "source": [
    "df.show()"
   ]
  },
  {
   "cell_type": "code",
   "execution_count": 15,
   "metadata": {},
   "outputs": [
    {
     "data": {
      "application/vnd.jupyter.widget-view+json": {
       "model_id": "",
       "version_major": 2,
       "version_minor": 0
      },
      "text/plain": [
       "FloatProgress(value=0.0, bar_style='info', description='Progress:', layout=Layout(height='25px', width='50%'),…"
      ]
     },
     "metadata": {},
     "output_type": "display_data"
    }
   ],
   "source": [
    "df = df.withColumn('ie_avg', df['ie_entropy'].getItem('ie_avg')).withColumn('ie_entropy', df['ie_entropy'].getItem('entropy')).withColumn('nb_event_day', df['day_night'].getItem('nb_event_day')).withColumn('nb_event_night', df['day_night'].getItem('nb_event_night'))\n",
    "df = df.select('id', 'nb_cdr', 'nb_event_day', 'nb_event_night', 'ie_avg', 'ie_entropy', 'pos_entropy', 'rg')"
   ]
  },
  {
   "cell_type": "code",
   "execution_count": 17,
   "metadata": {},
   "outputs": [
    {
     "data": {
      "application/vnd.jupyter.widget-view+json": {
       "model_id": "",
       "version_major": 2,
       "version_minor": 0
      },
      "text/plain": [
       "FloatProgress(value=0.0, bar_style='info', description='Progress:', layout=Layout(height='25px', width='50%'),…"
      ]
     },
     "metadata": {},
     "output_type": "display_data"
    },
    {
     "name": "stdout",
     "output_type": "stream",
     "text": [
      "root\n",
      " |-- id: string (nullable = true)\n",
      " |-- nb_cdr: integer (nullable = true)\n",
      " |-- nb_event_day: integer (nullable = true)\n",
      " |-- nb_event_night: integer (nullable = true)\n",
      " |-- ie_avg: integer (nullable = true)\n",
      " |-- ie_entropy: float (nullable = true)\n",
      " |-- pos_entropy: float (nullable = true)\n",
      " |-- rg: float (nullable = true)"
     ]
    }
   ],
   "source": [
    "df.printSchema()"
   ]
  },
  {
   "cell_type": "code",
   "execution_count": 18,
   "metadata": {},
   "outputs": [
    {
     "data": {
      "application/vnd.jupyter.widget-view+json": {
       "model_id": "",
       "version_major": 2,
       "version_minor": 0
      },
      "text/plain": [
       "FloatProgress(value=0.0, bar_style='info', description='Progress:', layout=Layout(height='25px', width='50%'),…"
      ]
     },
     "metadata": {},
     "output_type": "display_data"
    },
    {
     "name": "stdout",
     "output_type": "stream",
     "text": [
      "[('id', 'string'), ('nb_cdr', 'int'), ('nb_event_day', 'int'), ('nb_event_night', 'int'), ('ie_avg', 'int'), ('ie_entropy', 'float'), ('pos_entropy', 'float'), ('rg', 'float')]"
     ]
    }
   ],
   "source": [
    "df.dtypes"
   ]
  },
  {
   "cell_type": "markdown",
   "metadata": {},
   "source": [
    "Rajouter une colonne **percent_nocturnal**"
   ]
  },
  {
   "cell_type": "code",
   "execution_count": 20,
   "metadata": {},
   "outputs": [
    {
     "data": {
      "application/vnd.jupyter.widget-view+json": {
       "model_id": "",
       "version_major": 2,
       "version_minor": 0
      },
      "text/plain": [
       "FloatProgress(value=0.0, bar_style='info', description='Progress:', layout=Layout(height='25px', width='50%'),…"
      ]
     },
     "metadata": {},
     "output_type": "display_data"
    }
   ],
   "source": [
    "df = df.withColumn('percent_nocturnal', ((F.col('nb_event_night') * 100) / F.col('nb_cdr')).cast('int'))"
   ]
  },
  {
   "cell_type": "code",
   "execution_count": 34,
   "metadata": {},
   "outputs": [
    {
     "data": {
      "application/vnd.jupyter.widget-view+json": {
       "model_id": "",
       "version_major": 2,
       "version_minor": 0
      },
      "text/plain": [
       "FloatProgress(value=0.0, bar_style='info', description='Progress:', layout=Layout(height='25px', width='50%'),…"
      ]
     },
     "metadata": {},
     "output_type": "display_data"
    },
    {
     "name": "stdout",
     "output_type": "stream",
     "text": [
      "+----------+------+------------+--------------+------+----------+-----------+-----+-----------------+\n",
      "|        id|nb_cdr|nb_event_day|nb_event_night|ie_avg|ie_entropy|pos_entropy|   rg|percent_nocturnal|\n",
      "+----------+------+------------+--------------+------+----------+-----------+-----+-----------------+\n",
      "|0055555732|     1|           1|             0|  null|      null|       null|  0.0|                0|\n",
      "|0055555739|     4|           4|             0|  null|      null|       null|  0.0|                0|\n",
      "|0055556253|     3|           3|             0|  null|      null|       null|  0.0|                0|\n",
      "|0055556463|     4|           1|             3|  null|      null|       0.41|3.566|               75|\n",
      "|0055556863|   312|         183|           129|   164|      0.65|       0.06|0.162|               41|\n",
      "|0055557412|     1|           0|             1|  null|      null|       null|  0.0|              100|\n",
      "|0055557807|    43|          43|             0|   156|      0.97|       0.28| 0.33|                0|\n",
      "|0055558022|     4|           4|             0|  null|      null|       0.41|0.199|                0|\n",
      "|0055558132|    49|           0|            49|    78|      0.93|       0.27|4.689|              100|\n",
      "|0055558166|     1|           1|             0|  null|      null|       null|  0.0|                0|\n",
      "|0055558373|     8|           7|             1|  6870|       1.0|       0.83|2.542|               12|\n",
      "|0055558442|     1|           1|             0|  null|      null|       null|  0.0|                0|\n",
      "|0055558812|   189|          71|           118|    49|      0.83|       0.08|0.509|               62|\n",
      "|0055559058|     3|           3|             0|  null|      null|       0.58|1.419|                0|\n",
      "|0055559128|     2|           2|             0|  null|      null|        1.0|0.175|                0|\n",
      "|0055559324|     1|           1|             0|  null|      null|       null|  0.0|                0|\n",
      "|0055559429|    23|          23|             0|   165|      0.96|        0.5|1.197|                0|\n",
      "|0055559569|   156|          67|            89|    80|      0.83|       0.12|0.415|               57|\n",
      "|0055559652|   159|          52|           107|   519|       0.8|       0.07|1.267|               67|\n",
      "|0055559760|    17|          16|             1|   259|      0.88|       0.28|0.214|                5|\n",
      "+----------+------+------------+--------------+------+----------+-----------+-----+-----------------+\n",
      "only showing top 20 rows"
     ]
    }
   ],
   "source": [
    "df.show(20)"
   ]
  },
  {
   "cell_type": "markdown",
   "metadata": {},
   "source": [
    "Compter les **NaN** pour chaque colonne"
   ]
  },
  {
   "cell_type": "code",
   "execution_count": 22,
   "metadata": {},
   "outputs": [
    {
     "data": {
      "application/vnd.jupyter.widget-view+json": {
       "model_id": "",
       "version_major": 2,
       "version_minor": 0
      },
      "text/plain": [
       "FloatProgress(value=0.0, bar_style='info', description='Progress:', layout=Layout(height='25px', width='50%'),…"
      ]
     },
     "metadata": {},
     "output_type": "display_data"
    },
    {
     "name": "stdout",
     "output_type": "stream",
     "text": [
      "                        0\n",
      "id                      0\n",
      "nb_cdr                  0\n",
      "nb_event_day            0\n",
      "nb_event_night          0\n",
      "ie_avg             115412\n",
      "ie_entropy         115412\n",
      "pos_entropy        145919\n",
      "rg                      0\n",
      "percent_nocturnal       0"
     ]
    }
   ],
   "source": [
    "df_count_nan = df.agg(*[F.count(F.when(F.isnull(c), c)).alias(c) for c in df.columns])\n",
    "df_count_nan = df_count_nan.toPandas().T\n",
    "df_count_nan"
   ]
  },
  {
   "cell_type": "code",
   "execution_count": 24,
   "metadata": {},
   "outputs": [
    {
     "data": {
      "application/vnd.jupyter.widget-view+json": {
       "model_id": "",
       "version_major": 2,
       "version_minor": 0
      },
      "text/plain": [
       "FloatProgress(value=0.0, bar_style='info', description='Progress:', layout=Layout(height='25px', width='50%'),…"
      ]
     },
     "metadata": {},
     "output_type": "display_data"
    },
    {
     "name": "stdout",
     "output_type": "stream",
     "text": [
      "414271"
     ]
    }
   ],
   "source": [
    "df.count()"
   ]
  },
  {
   "cell_type": "markdown",
   "metadata": {},
   "source": [
    "Supprimer les lignes avec des **NaN** partout pour les métriques: **'ie_avg', 'ie_entropy', 'pos_entropy'**"
   ]
  },
  {
   "cell_type": "code",
   "execution_count": 23,
   "metadata": {},
   "outputs": [
    {
     "data": {
      "application/vnd.jupyter.widget-view+json": {
       "model_id": "",
       "version_major": 2,
       "version_minor": 0
      },
      "text/plain": [
       "FloatProgress(value=0.0, bar_style='info', description='Progress:', layout=Layout(height='25px', width='50%'),…"
      ]
     },
     "metadata": {},
     "output_type": "display_data"
    },
    {
     "name": "stdout",
     "output_type": "stream",
     "text": [
      "329076"
     ]
    }
   ],
   "source": [
    "df_new = df.dropna(how='all', subset = ['ie_avg', 'ie_entropy', 'pos_entropy'])\n",
    "df_new.count()"
   ]
  },
  {
   "cell_type": "markdown",
   "metadata": {},
   "source": [
    "Le nombre de lignes supprimées est:"
   ]
  },
  {
   "cell_type": "code",
   "execution_count": 25,
   "metadata": {},
   "outputs": [
    {
     "data": {
      "application/vnd.jupyter.widget-view+json": {
       "model_id": "",
       "version_major": 2,
       "version_minor": 0
      },
      "text/plain": [
       "FloatProgress(value=0.0, bar_style='info', description='Progress:', layout=Layout(height='25px', width='50%'),…"
      ]
     },
     "metadata": {},
     "output_type": "display_data"
    },
    {
     "name": "stdout",
     "output_type": "stream",
     "text": [
      "85195"
     ]
    }
   ],
   "source": [
    "df.count() - df_new.count()"
   ]
  },
  {
   "cell_type": "markdown",
   "metadata": {},
   "source": [
    "Nombre de **NaN** par colonne après la suppression des lignes inutiles"
   ]
  },
  {
   "cell_type": "code",
   "execution_count": 26,
   "metadata": {},
   "outputs": [
    {
     "data": {
      "application/vnd.jupyter.widget-view+json": {
       "model_id": "",
       "version_major": 2,
       "version_minor": 0
      },
      "text/plain": [
       "FloatProgress(value=0.0, bar_style='info', description='Progress:', layout=Layout(height='25px', width='50%'),…"
      ]
     },
     "metadata": {},
     "output_type": "display_data"
    },
    {
     "name": "stdout",
     "output_type": "stream",
     "text": [
      "                       0\n",
      "id                     0\n",
      "nb_cdr                 0\n",
      "nb_event_day           0\n",
      "nb_event_night         0\n",
      "ie_avg             30217\n",
      "ie_entropy         30217\n",
      "pos_entropy        60724\n",
      "rg                     0\n",
      "percent_nocturnal      0"
     ]
    }
   ],
   "source": [
    "df_count_nan = df_new.agg(*[F.count(F.when(F.isnull(c), c)).alias(c) for c in df_new.columns])\n",
    "df_count_nan = df_count_nan.toPandas().T\n",
    "df_count_nan"
   ]
  },
  {
   "cell_type": "markdown",
   "metadata": {},
   "source": [
    "#### Enregistrer le nouveau df "
   ]
  },
  {
   "cell_type": "code",
   "execution_count": 27,
   "metadata": {},
   "outputs": [
    {
     "data": {
      "application/vnd.jupyter.widget-view+json": {
       "model_id": "",
       "version_major": 2,
       "version_minor": 0
      },
      "text/plain": [
       "FloatProgress(value=0.0, bar_style='info', description='Progress:', layout=Layout(height='25px', width='50%'),…"
      ]
     },
     "metadata": {},
     "output_type": "display_data"
    }
   ],
   "source": [
    "df_new.write.parquet(\"/user/ngwh3132/WORK/cancan_project/3G_2W/new_df_phone_data.parquet\", mode='overwrite')"
   ]
  },
  {
   "cell_type": "markdown",
   "metadata": {},
   "source": [
    "# Data viz"
   ]
  },
  {
   "cell_type": "markdown",
   "metadata": {},
   "source": [
    "**numeric features**: description"
   ]
  },
  {
   "cell_type": "code",
   "execution_count": 28,
   "metadata": {},
   "outputs": [
    {
     "data": {
      "application/vnd.jupyter.widget-view+json": {
       "model_id": "",
       "version_major": 2,
       "version_minor": 0
      },
      "text/plain": [
       "FloatProgress(value=0.0, bar_style='info', description='Progress:', layout=Layout(height='25px', width='50%'),…"
      ]
     },
     "metadata": {},
     "output_type": "display_data"
    }
   ],
   "source": [
    "numeric_features = [t[0] for t in df_new.dtypes if (t[1] == 'int') | (t[1] == 'float')]\n",
    "stats_df = df_new.select(numeric_features).describe().toPandas()"
   ]
  },
  {
   "cell_type": "code",
   "execution_count": 32,
   "metadata": {},
   "outputs": [
    {
     "data": {
      "application/vnd.jupyter.widget-view+json": {
       "model_id": "",
       "version_major": 2,
       "version_minor": 0
      },
      "text/plain": [
       "FloatProgress(value=0.0, bar_style='info', description='Progress:', layout=Layout(height='25px', width='50%'),…"
      ]
     },
     "metadata": {},
     "output_type": "display_data"
    }
   ],
   "source": [
    "stats_df[['nb_cdr', 'nb_event_day', 'nb_event_night', 'ie_avg', 'ie_entropy', 'pos_entropy', 'rg', 'percent_nocturnal']] = stats_df[['nb_cdr', 'nb_event_day', 'nb_event_night', 'ie_avg', 'ie_entropy', 'pos_entropy', 'rg', 'percent_nocturnal']].apply(pd.to_numeric, errors='coerce')"
   ]
  },
  {
   "cell_type": "code",
   "execution_count": 33,
   "metadata": {},
   "outputs": [
    {
     "data": {
      "application/vnd.jupyter.widget-view+json": {
       "model_id": "",
       "version_major": 2,
       "version_minor": 0
      },
      "text/plain": [
       "FloatProgress(value=0.0, bar_style='info', description='Progress:', layout=Layout(height='25px', width='50%'),…"
      ]
     },
     "metadata": {},
     "output_type": "display_data"
    },
    {
     "name": "stdout",
     "output_type": "stream",
     "text": [
      "                        0     1       2    3      4\n",
      "summary             count  mean  stddev  min    max\n",
      "nb_cdr             329076   115     182    1   8308\n",
      "nb_event_day       329076    71     126    0   6304\n",
      "nb_event_night     329076    44      83    0   7604\n",
      "ie_avg             298859   479     916    1  17188\n",
      "ie_entropy         298859     0       0    0      1\n",
      "pos_entropy        268352     0       0    0      1\n",
      "rg                 329076     0       1    0     18\n",
      "percent_nocturnal  329076    36      35    0    100"
     ]
    }
   ],
   "source": [
    "stats_df.T"
   ]
  },
  {
   "cell_type": "markdown",
   "metadata": {},
   "source": [
    "### CDF"
   ]
  },
  {
   "cell_type": "code",
   "execution_count": 13,
   "metadata": {},
   "outputs": [],
   "source": [
    "# def make_cdf(df, feature):\n",
    "    \n",
    "#     \"\"\" \n",
    "#         return pandas df  with unique values of the feature and the frequence \n",
    "#     \"\"\"\n",
    "#     # Frequence \n",
    "#     df_new = df.groupby(F.col(feature)).agg(F.count(feature).alias('frequence')).select(feature, 'frequence').orderBy(feature).toPandas()\n",
    "    \n",
    "#     # PDF\n",
    "#     df_new['pdf'] = df_new['frequence'] / sum(df_new['frequence'])\n",
    "\n",
    "#     # CDF\n",
    "#     df_new['cdf'] = df_new['pdf'].cumsum()\n",
    "    \n",
    "#     return(df_new)"
   ]
  },
  {
   "cell_type": "markdown",
   "metadata": {},
   "source": [
    "Construire la **CDF** pour chaque métrique numérique dans les données"
   ]
  },
  {
   "cell_type": "code",
   "execution_count": 36,
   "metadata": {},
   "outputs": [
    {
     "data": {
      "application/vnd.jupyter.widget-view+json": {
       "model_id": "",
       "version_major": 2,
       "version_minor": 0
      },
      "text/plain": [
       "FloatProgress(value=0.0, bar_style='info', description='Progress:', layout=Layout(height='25px', width='50%'),…"
      ]
     },
     "metadata": {},
     "output_type": "display_data"
    }
   ],
   "source": [
    "# for feature in numeric_features:\n",
    "#     feature = make_cdf(df_new, feature)\n",
    "#     print('CDF for', feature)\n",
    "#     print(feature)\n",
    "#     print('----------------------')\n",
    "    "
   ]
  },
  {
   "cell_type": "markdown",
   "metadata": {},
   "source": [
    "**Violin plot** for each feature in the distribution"
   ]
  },
  {
   "cell_type": "code",
   "execution_count": 35,
   "metadata": {},
   "outputs": [
    {
     "data": {
      "application/vnd.jupyter.widget-view+json": {
       "model_id": "",
       "version_major": 2,
       "version_minor": 0
      },
      "text/plain": [
       "FloatProgress(value=0.0, bar_style='info', description='Progress:', layout=Layout(height='25px', width='50%'),…"
      ]
     },
     "metadata": {},
     "output_type": "display_data"
    }
   ],
   "source": [
    "# for feature in numeric_features:\n",
    "#     cdf_feature = make_cdf(df_new, feature)\n",
    "#     sns.violinplot(feature, data=cdf_feature)\n",
    "#     plt.show()"
   ]
  }
 ],
 "metadata": {
  "hide_input": false,
  "kernelspec": {
   "display_name": "PySpark",
   "language": "",
   "name": "pysparkkernel"
  },
  "language_info": {
   "codemirror_mode": {
    "name": "python",
    "version": 2
   },
   "mimetype": "text/x-python",
   "name": "pyspark",
   "pygments_lexer": "python2"
  },
  "latex_envs": {
   "LaTeX_envs_menu_present": true,
   "autoclose": false,
   "autocomplete": true,
   "bibliofile": "biblio.bib",
   "cite_by": "apalike",
   "current_citInitial": 1,
   "eqLabelWithNumbers": true,
   "eqNumInitial": 1,
   "hotkeys": {
    "equation": "Ctrl-E",
    "itemize": "Ctrl-I"
   },
   "labels_anchors": false,
   "latex_user_defs": false,
   "report_style_numbering": false,
   "user_envs_cfg": false
  },
  "varInspector": {
   "cols": {
    "lenName": 16,
    "lenType": 16,
    "lenVar": 40
   },
   "kernels_config": {
    "python": {
     "delete_cmd_postfix": "",
     "delete_cmd_prefix": "del ",
     "library": "var_list.py",
     "varRefreshCmd": "print(var_dic_list())"
    },
    "r": {
     "delete_cmd_postfix": ") ",
     "delete_cmd_prefix": "rm(",
     "library": "var_list.r",
     "varRefreshCmd": "cat(var_dic_list()) "
    }
   },
   "types_to_exclude": [
    "module",
    "function",
    "builtin_function_or_method",
    "instance",
    "_Feature"
   ],
   "window_display": false
  }
 },
 "nbformat": 4,
 "nbformat_minor": 4
}
