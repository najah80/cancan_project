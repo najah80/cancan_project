{
 "cells": [
  {
   "cell_type": "markdown",
   "metadata": {},
   "source": [
    "# PHONE_DATA CLEANING "
   ]
  },
  {
   "cell_type": "markdown",
   "metadata": {},
   "source": [
    "data from  https://www.cs.rutgers.edu/~dz220/data.html, collected in 2013-10-22"
   ]
  },
  {
   "cell_type": "markdown",
   "metadata": {},
   "source": [
    "## IMPORTS"
   ]
  },
  {
   "cell_type": "code",
   "execution_count": 1,
   "metadata": {},
   "outputs": [
    {
     "name": "stdout",
     "output_type": "stream",
     "text": [
      "Starting Spark application\n"
     ]
    },
    {
     "data": {
      "text/html": [
       "<table>\n",
       "<tr><th>ID</th><th>YARN Application ID</th><th>Kind</th><th>State</th><th>Spark UI</th><th>Driver log</th><th>Current session?</th></tr><tr><td>1595</td><td>application_1602681287149_27001</td><td>pyspark</td><td>idle</td><td><a target=\"_blank\" href=\"http://opbigrm01.rouen.francetelecom.fr:8088/proxy/application_1602681287149_27001/\">Link</a></td><td><a target=\"_blank\" href=\"http://opbighadoop27.rouen.francetelecom.fr:8042/node/containerlogs/container_1602681287149_27001_01_000001/ngwh3132\">Link</a></td><td>✔</td></tr></table>"
      ],
      "text/plain": [
       "<IPython.core.display.HTML object>"
      ]
     },
     "metadata": {},
     "output_type": "display_data"
    },
    {
     "data": {
      "application/vnd.jupyter.widget-view+json": {
       "model_id": "613693206a46489f89c49606ae5836b9",
       "version_major": 2,
       "version_minor": 0
      },
      "text/plain": [
       "FloatProgress(value=0.0, bar_style='info', description='Progress:', layout=Layout(height='25px', width='50%'),…"
      ]
     },
     "metadata": {},
     "output_type": "display_data"
    },
    {
     "name": "stdout",
     "output_type": "stream",
     "text": [
      "SparkSession available as 'spark'.\n"
     ]
    },
    {
     "data": {
      "application/vnd.jupyter.widget-view+json": {
       "model_id": "5f3dfc6d88a94e38a4b6bba490a12669",
       "version_major": 2,
       "version_minor": 0
      },
      "text/plain": [
       "FloatProgress(value=0.0, bar_style='info', description='Progress:', layout=Layout(height='25px', width='50%'),…"
      ]
     },
     "metadata": {},
     "output_type": "display_data"
    }
   ],
   "source": [
    "from pyspark.sql import SparkSession\n",
    "import pyspark.sql.functions as F\n",
    "from pyspark.sql.types import *\n",
    "\n",
    "from math import *\n",
    "from collections import Counter"
   ]
  },
  {
   "cell_type": "markdown",
   "metadata": {},
   "source": [
    "## READ FILE"
   ]
  },
  {
   "cell_type": "code",
   "execution_count": 2,
   "metadata": {},
   "outputs": [
    {
     "data": {
      "application/vnd.jupyter.widget-view+json": {
       "model_id": "",
       "version_major": 2,
       "version_minor": 0
      },
      "text/plain": [
       "FloatProgress(value=0.0, bar_style='info', description='Progress:', layout=Layout(height='25px', width='50%'),…"
      ]
     },
     "metadata": {},
     "output_type": "display_data"
    }
   ],
   "source": [
    "spark = SparkSession.builder.getOrCreate()"
   ]
  },
  {
   "cell_type": "code",
   "execution_count": 3,
   "metadata": {},
   "outputs": [
    {
     "data": {
      "application/vnd.jupyter.widget-view+json": {
       "model_id": "",
       "version_major": 2,
       "version_minor": 0
      },
      "text/plain": [
       "FloatProgress(value=0.0, bar_style='info', description='Progress:', layout=Layout(height='25px', width='50%'),…"
      ]
     },
     "metadata": {},
     "output_type": "display_data"
    }
   ],
   "source": [
    "# récupérer les données \n",
    "data = spark.read.csv(\"/user/ngwh3132/WORK/cancan_project/phone_data.csv\", header='False', sep=',')"
   ]
  },
  {
   "cell_type": "code",
   "execution_count": 4,
   "metadata": {},
   "outputs": [
    {
     "data": {
      "application/vnd.jupyter.widget-view+json": {
       "model_id": "",
       "version_major": 2,
       "version_minor": 0
      },
      "text/plain": [
       "FloatProgress(value=0.0, bar_style='info', description='Progress:', layout=Layout(height='25px', width='50%'),…"
      ]
     },
     "metadata": {},
     "output_type": "display_data"
    },
    {
     "name": "stdout",
     "output_type": "stream",
     "text": [
      "38218717"
     ]
    }
   ],
   "source": [
    "data.count()"
   ]
  },
  {
   "cell_type": "code",
   "execution_count": 5,
   "metadata": {},
   "outputs": [
    {
     "data": {
      "application/vnd.jupyter.widget-view+json": {
       "model_id": "",
       "version_major": 2,
       "version_minor": 0
      },
      "text/plain": [
       "FloatProgress(value=0.0, bar_style='info', description='Progress:', layout=Layout(height='25px', width='50%'),…"
      ]
     },
     "metadata": {},
     "output_type": "display_data"
    },
    {
     "name": "stdout",
     "output_type": "stream",
     "text": [
      "root\n",
      " |-- _c0: string (nullable = true)\n",
      " |-- _c1: string (nullable = true)\n",
      " |-- _c2: string (nullable = true)\n",
      " |-- _c3: string (nullable = true)"
     ]
    }
   ],
   "source": [
    "data.printSchema()"
   ]
  },
  {
   "cell_type": "markdown",
   "metadata": {},
   "source": [
    "#### Rename columns"
   ]
  },
  {
   "cell_type": "code",
   "execution_count": 6,
   "metadata": {},
   "outputs": [
    {
     "data": {
      "application/vnd.jupyter.widget-view+json": {
       "model_id": "",
       "version_major": 2,
       "version_minor": 0
      },
      "text/plain": [
       "FloatProgress(value=0.0, bar_style='info', description='Progress:', layout=Layout(height='25px', width='50%'),…"
      ]
     },
     "metadata": {},
     "output_type": "display_data"
    }
   ],
   "source": [
    "data = data.withColumnRenamed('_c0', 'id').withColumnRenamed('_c1', 'ts').withColumnRenamed('_c2', 'lat').withColumnRenamed('_c3', 'long').distinct()"
   ]
  },
  {
   "cell_type": "code",
   "execution_count": 7,
   "metadata": {},
   "outputs": [
    {
     "data": {
      "application/vnd.jupyter.widget-view+json": {
       "model_id": "",
       "version_major": 2,
       "version_minor": 0
      },
      "text/plain": [
       "FloatProgress(value=0.0, bar_style='info', description='Progress:', layout=Layout(height='25px', width='50%'),…"
      ]
     },
     "metadata": {},
     "output_type": "display_data"
    },
    {
     "name": "stdout",
     "output_type": "stream",
     "text": [
      "+----------+--------+-----------+----------+\n",
      "|        id|      ts|        lat|      long|\n",
      "+----------+--------+-----------+----------+\n",
      "|0055555664|20:44:56| 114.053436|  22.62122|\n",
      "|0055555805|01:39:00|114.0589583|22.5465278|\n",
      "|0055555820|16:40:06|113.8494444|22.7838194|\n",
      "|0055555897|08:38:51|114.0648611|22.5518056|\n",
      "|0055555908|20:00:21|113.8494444|22.7838194|\n",
      "|0055555926|09:32:46|     114.05|22.5629167|\n",
      "|0055555932|05:59:48|   114.0575|22.5470139|\n",
      "|0055555934|20:37:32|114.0520833|22.5388889|\n",
      "|0055555963|11:37:37|114.0500694|22.5410417|\n",
      "|0055555963|22:01:10|114.0579167| 22.530625|\n",
      "|0055555996|16:25:39|113.8494444|22.7838194|\n",
      "|0055556086|21:50:26| 114.062017| 22.639292|\n",
      "|0055556091|20:55:56|114.0594444|22.6859028|\n",
      "|0055556091|23:31:39|114.0594444|22.6859028|\n",
      "|0055556100|21:00:59|  114.05875|22.5359722|\n",
      "|0055556100|21:29:16|  114.05875|22.5359722|\n",
      "|0055556100|22:46:33|114.0634722|22.5370139|\n",
      "|0055556101|13:43:28|114.0591667| 22.561875|\n",
      "|0055556101|14:32:11|114.0591667| 22.561875|\n",
      "|0055556108|23:56:06|114.0009028|22.6370833|\n",
      "+----------+--------+-----------+----------+\n",
      "only showing top 20 rows"
     ]
    }
   ],
   "source": [
    "data.show()"
   ]
  },
  {
   "cell_type": "markdown",
   "metadata": {},
   "source": [
    "#### Count null data in each column"
   ]
  },
  {
   "cell_type": "code",
   "execution_count": 8,
   "metadata": {},
   "outputs": [
    {
     "data": {
      "application/vnd.jupyter.widget-view+json": {
       "model_id": "",
       "version_major": 2,
       "version_minor": 0
      },
      "text/plain": [
       "FloatProgress(value=0.0, bar_style='info', description='Progress:', layout=Layout(height='25px', width='50%'),…"
      ]
     },
     "metadata": {},
     "output_type": "display_data"
    },
    {
     "name": "stdout",
     "output_type": "stream",
     "text": [
      "      0\n",
      "id    0\n",
      "ts    0\n",
      "lat   0\n",
      "long  0"
     ]
    }
   ],
   "source": [
    "df_count_nan = data.agg(*[F.count(F.when(F.isnull(c), c)).alias(c) for c in data.columns]).toPandas().T\n",
    "df_count_nan"
   ]
  },
  {
   "cell_type": "code",
   "execution_count": 9,
   "metadata": {},
   "outputs": [
    {
     "data": {
      "application/vnd.jupyter.widget-view+json": {
       "model_id": "",
       "version_major": 2,
       "version_minor": 0
      },
      "text/plain": [
       "FloatProgress(value=0.0, bar_style='info', description='Progress:', layout=Layout(height='25px', width='50%'),…"
      ]
     },
     "metadata": {},
     "output_type": "display_data"
    },
    {
     "name": "stdout",
     "output_type": "stream",
     "text": [
      "root\n",
      " |-- id: string (nullable = true)\n",
      " |-- ts: string (nullable = true)\n",
      " |-- lat: string (nullable = true)\n",
      " |-- long: string (nullable = true)"
     ]
    }
   ],
   "source": [
    "data.printSchema()"
   ]
  },
  {
   "cell_type": "markdown",
   "metadata": {},
   "source": [
    "#### Convert date from string to timestamp type"
   ]
  },
  {
   "cell_type": "code",
   "execution_count": 10,
   "metadata": {},
   "outputs": [
    {
     "data": {
      "application/vnd.jupyter.widget-view+json": {
       "model_id": "",
       "version_major": 2,
       "version_minor": 0
      },
      "text/plain": [
       "FloatProgress(value=0.0, bar_style='info', description='Progress:', layout=Layout(height='25px', width='50%'),…"
      ]
     },
     "metadata": {},
     "output_type": "display_data"
    }
   ],
   "source": [
    "data = data.withColumn('ts', F.unix_timestamp(F.col('ts'), \"HH:mm:ss\").cast('timestamp'))"
   ]
  },
  {
   "cell_type": "markdown",
   "metadata": {},
   "source": [
    "#### Regroup lat & long to one column 'pos'"
   ]
  },
  {
   "cell_type": "code",
   "execution_count": 11,
   "metadata": {},
   "outputs": [
    {
     "data": {
      "application/vnd.jupyter.widget-view+json": {
       "model_id": "",
       "version_major": 2,
       "version_minor": 0
      },
      "text/plain": [
       "FloatProgress(value=0.0, bar_style='info', description='Progress:', layout=Layout(height='25px', width='50%'),…"
      ]
     },
     "metadata": {},
     "output_type": "display_data"
    }
   ],
   "source": [
    "data = data.select('id', 'ts', F.struct(F.col('lat').cast('float').alias('lat'), F.col('long').cast('float').alias('long')).alias('pos'))"
   ]
  },
  {
   "cell_type": "markdown",
   "metadata": {},
   "source": [
    "### Aggregate all data by 'id' and collect all events & positions in lists"
   ]
  },
  {
   "cell_type": "code",
   "execution_count": 14,
   "metadata": {},
   "outputs": [
    {
     "data": {
      "application/vnd.jupyter.widget-view+json": {
       "model_id": "",
       "version_major": 2,
       "version_minor": 0
      },
      "text/plain": [
       "FloatProgress(value=0.0, bar_style='info', description='Progress:', layout=Layout(height='25px', width='50%'),…"
      ]
     },
     "metadata": {},
     "output_type": "display_data"
    }
   ],
   "source": [
    "data = data.groupby('id').agg(F.collect_set('ts').alias('ts_list'), F.collect_list('pos').alias('pos_list')).withColumn('nb_cdr', F.size(F.col('ts_list')))"
   ]
  },
  {
   "cell_type": "code",
   "execution_count": 16,
   "metadata": {},
   "outputs": [
    {
     "data": {
      "application/vnd.jupyter.widget-view+json": {
       "model_id": "",
       "version_major": 2,
       "version_minor": 0
      },
      "text/plain": [
       "FloatProgress(value=0.0, bar_style='info', description='Progress:', layout=Layout(height='25px', width='50%'),…"
      ]
     },
     "metadata": {},
     "output_type": "display_data"
    },
    {
     "name": "stdout",
     "output_type": "stream",
     "text": [
      "root\n",
      " |-- id: string (nullable = true)\n",
      " |-- ts_list: array (nullable = true)\n",
      " |    |-- element: timestamp (containsNull = true)\n",
      " |-- pos_list: array (nullable = true)\n",
      " |    |-- element: struct (containsNull = true)\n",
      " |    |    |-- lat: float (nullable = true)\n",
      " |    |    |-- long: float (nullable = true)\n",
      " |-- nb_cdr: integer (nullable = false)"
     ]
    }
   ],
   "source": [
    "data.printSchema()"
   ]
  },
  {
   "cell_type": "code",
   "execution_count": 17,
   "metadata": {},
   "outputs": [
    {
     "data": {
      "application/vnd.jupyter.widget-view+json": {
       "model_id": "",
       "version_major": 2,
       "version_minor": 0
      },
      "text/plain": [
       "FloatProgress(value=0.0, bar_style='info', description='Progress:', layout=Layout(height='25px', width='50%'),…"
      ]
     },
     "metadata": {},
     "output_type": "display_data"
    },
    {
     "name": "stdout",
     "output_type": "stream",
     "text": [
      "+----------+--------------------+--------------------+------+\n",
      "|        id|             ts_list|            pos_list|nb_cdr|\n",
      "+----------+--------------------+--------------------+------+\n",
      "|0055555868|[1970-01-01 18:14...|[[113.84944,22.78...|     1|\n",
      "|0055555984|[1970-01-01 20:45...|[[114.05625,22.53...|    62|\n",
      "|0055556089|[1970-01-01 13:37...|[[114.06486,22.54...|    24|\n",
      "|0055556368|[1970-01-01 21:29...|[[114.054794,22.5...|     4|\n",
      "|0055556383|[1970-01-01 09:11...|[[114.059166,22.5...|     1|\n",
      "|0055556411|[1970-01-01 13:37...|[[114.032776,22.5...|     1|\n",
      "|0055556447|[1970-01-01 17:53...|[[114.06789,22.53...|     1|\n",
      "|0055556511|[1970-01-01 17:35...|[[114.04385,22.53...|     1|\n",
      "|0055556545|[1970-01-01 22:25...|[[113.82449,22.79...|   190|\n",
      "|0055556552|[1970-01-01 12:15...|[[114.07076,22.54...|    47|\n",
      "|0055556678|[1970-01-01 23:53...|[[114.03368,22.61...|    76|\n",
      "|0055556716|[1970-01-01 21:36...|[[114.01319,22.66...|    39|\n",
      "|0055557115|[1970-01-01 20:03...|[[114.06479,22.53...|     2|\n",
      "|0055557214|[1970-01-01 20:38...|[[114.02564,22.69...|     9|\n",
      "|0055557244|[1970-01-01 19:18...|[[113.90722,22.77...|    10|\n",
      "|0055557258|[1970-01-01 16:28...|[[113.93429,22.76...|    49|\n",
      "|0055557650|[1970-01-01 17:39...|[[114.042015,22.5...|    87|\n",
      "|0055557916|[1970-01-01 16:28...|[[113.80028,22.78...|   155|\n",
      "|0055558035|[1970-01-01 11:27...|[[114.0484,22.566...|     9|\n",
      "|0055558036|[1970-01-01 17:26...|[[113.87646,22.78...|     2|\n",
      "+----------+--------------------+--------------------+------+\n",
      "only showing top 20 rows"
     ]
    }
   ],
   "source": [
    "data.show()"
   ]
  },
  {
   "cell_type": "markdown",
   "metadata": {},
   "source": [
    "### Define the functions to calculate the metrics we need to our model of classification"
   ]
  },
  {
   "cell_type": "markdown",
   "metadata": {},
   "source": [
    "1. day_night function"
   ]
  },
  {
   "cell_type": "code",
   "execution_count": 18,
   "metadata": {},
   "outputs": [
    {
     "data": {
      "application/vnd.jupyter.widget-view+json": {
       "model_id": "",
       "version_major": 2,
       "version_minor": 0
      },
      "text/plain": [
       "FloatProgress(value=0.0, bar_style='info', description='Progress:', layout=Layout(height='25px', width='50%'),…"
      ]
     },
     "metadata": {},
     "output_type": "display_data"
    }
   ],
   "source": [
    "def day_night(user_events):\n",
    "    \"\"\"\n",
    "    Calcule le nombre d'évènements par jour et par nuit \n",
    "    retourne le nombre par jour(entre 6h et 21h) et le nombre d'évènement par nuit en prenant une partie de la nuit précédente N-1 (de minuit à 6h) \n",
    "    et une partie de la nuit N ( de 21h à minuit)\n",
    "\n",
    "    \"\"\"\n",
    "\n",
    "    sorted_list = sorted(user_events)\n",
    "\n",
    "    day_ts = range(7, 22)\n",
    "    day = [x for x in sorted_list if x.hour in day_ts]\n",
    "       \n",
    "    d = len(day)\n",
    "    n = len(sorted_list) - d\n",
    "     \n",
    "    return (d,n)\n",
    "\n",
    "schema1 = StructType((\n",
    "StructField(\"nb_event_day\", IntegerType(), True),\n",
    "StructField(\"nb_event_night\", IntegerType(), True)\n",
    "))\n",
    "dn_udf = F.udf(day_night, schema1)\n"
   ]
  },
  {
   "cell_type": "markdown",
   "metadata": {},
   "source": [
    "2. inter_event_time function"
   ]
  },
  {
   "cell_type": "code",
   "execution_count": 19,
   "metadata": {},
   "outputs": [
    {
     "data": {
      "application/vnd.jupyter.widget-view+json": {
       "model_id": "",
       "version_major": 2,
       "version_minor": 0
      },
      "text/plain": [
       "FloatProgress(value=0.0, bar_style='info', description='Progress:', layout=Layout(height='25px', width='50%'),…"
      ]
     },
     "metadata": {},
     "output_type": "display_data"
    }
   ],
   "source": [
    "def inter_event_time(user_events):\n",
    "    \"\"\"\n",
    "    Calcule l'inter_event_time \n",
    "    retourne la moyenne de tous les inter_time\n",
    "    Calcule l'entropie des inter_events time  \n",
    "    retourne l'entropie\n",
    "  \n",
    "    \"\"\"     \n",
    "\n",
    "    sorted_list = sorted(user_events)\n",
    "    #seconds = (sorted_list[-1] - sorted_list[0]).total_seconds()\n",
    "#     days = (sorted_list[-1] - sorted_list[0]).days\n",
    "\n",
    "#     if (days > 3): # au moins 4 jours sur 7 d'observation\n",
    "    diff = [(t - s).total_seconds() for s, t in zip(sorted_list, sorted_list[1:]) if (t-s).total_seconds() > 1]\n",
    "\n",
    "    l1 = len(diff)\n",
    "\n",
    "    if l1 > 1:# on prend les imsi avec au moins 4 events par jours\n",
    "\n",
    "        X =  [(elem, diff.count(elem)) for elem in set(diff)]\n",
    "\n",
    "        x0 = X[0][1]\n",
    "\n",
    "        entropy = (x0/l1) * log(x0/l1)\n",
    "\n",
    "        for x in X[1:l1+1]:\n",
    "\n",
    "             entropy+= (x[1]/l1 ) * log(x[1]/l1)\n",
    "\n",
    "        entropy = -round((entropy / log(l1)), 2)\n",
    "\n",
    "        diff_avg = sum(diff) // len(sorted_list)\n",
    "\n",
    "        return (int(diff_avg), entropy)   \n",
    "schema2 = StructType((\n",
    "StructField(\"ie_avg\", IntegerType(), True),\n",
    "StructField(\"entropy\", FloatType(), True)\n",
    "))\n",
    "ie_entropy_udf = F.udf(inter_event_time, schema2)\n"
   ]
  },
  {
   "cell_type": "markdown",
   "metadata": {},
   "source": [
    "3. distance_on_unit_sphere function used to calculate the radius of gyration "
   ]
  },
  {
   "cell_type": "code",
   "execution_count": 20,
   "metadata": {},
   "outputs": [
    {
     "data": {
      "application/vnd.jupyter.widget-view+json": {
       "model_id": "",
       "version_major": 2,
       "version_minor": 0
      },
      "text/plain": [
       "FloatProgress(value=0.0, bar_style='info', description='Progress:', layout=Layout(height='25px', width='50%'),…"
      ]
     },
     "metadata": {},
     "output_type": "display_data"
    }
   ],
   "source": [
    "def distance_on_unit_sphere(pos1, pos2):\n",
    "    # approximate radius of earth in km\n",
    "    R = 6373.0\n",
    "\n",
    "    lat1 = radians(pos1[0])\n",
    "    lon1 = radians(pos1[1])\n",
    "    lat2 = radians(pos2[0])\n",
    "    lon2 = radians(pos2[1])\n",
    "\n",
    "    dlon = lon2 - lon1\n",
    "    dlat = lat2 - lat1\n",
    "\n",
    "    a = sin(dlat / 2)**2 + cos(lat1) * cos(lat2) * sin(dlon / 2)**2\n",
    "    c = 2 * asin(sqrt(a))\n",
    "\n",
    "    arc = R * c\n",
    "\n",
    "    return arc"
   ]
  },
  {
   "cell_type": "code",
   "execution_count": 21,
   "metadata": {},
   "outputs": [
    {
     "data": {
      "application/vnd.jupyter.widget-view+json": {
       "model_id": "",
       "version_major": 2,
       "version_minor": 0
      },
      "text/plain": [
       "FloatProgress(value=0.0, bar_style='info', description='Progress:', layout=Layout(height='25px', width='50%'),…"
      ]
     },
     "metadata": {},
     "output_type": "display_data"
    }
   ],
   "source": [
    "def radius_of_gyration(positions):\n",
    "    \"\"\"\n",
    "    Returns the radius of gyration, the *equivalent distance* of the mass from\n",
    "    the center of gravity, for all visited places. [GON2008]_\n",
    "\n",
    "    References\n",
    "    ----------\n",
    "    .. [GON2008] Gonzalez, M. C., Hidalgo, C. A., & Barabasi, A. L. (2008).\n",
    "        Understanding individual human mobility patterns. Nature, 453(7196),\n",
    "        779-782.\n",
    "    \"\"\"\n",
    "    \n",
    "    positions = [tuple(l) for l in positions]\n",
    "    d = Counter(p for p in positions\n",
    "                if p is not None)\n",
    "    \n",
    "    sum_weights = sum(d.values())\n",
    "    positions = list(d.keys())  # Unique positions\n",
    "\n",
    "    if len(positions) == 0:\n",
    "        return None\n",
    "\n",
    "    barycenter = [0, 0]\n",
    "    for pos, t in d.items():\n",
    "        barycenter[0] += pos[0] * t\n",
    "        barycenter[1] += pos[1] * t\n",
    "\n",
    "    barycenter[0] /= sum_weights\n",
    "    barycenter[1] /= sum_weights\n",
    "\n",
    "    r = 0.\n",
    "    for pos, t in d.items():\n",
    "                                                                              \n",
    "        arc = distance_on_unit_sphere(barycenter, pos)\n",
    "        r += float(t) / sum_weights * (arc ** 2)                                       \n",
    "        \n",
    "        \n",
    "    return round(sqrt(abs(r)), 3)\n",
    "\n",
    "rg_udf = F.udf(radius_of_gyration, FloatType())"
   ]
  },
  {
   "cell_type": "markdown",
   "metadata": {},
   "source": [
    "4. the entropy of positions"
   ]
  },
  {
   "cell_type": "code",
   "execution_count": 22,
   "metadata": {},
   "outputs": [
    {
     "data": {
      "application/vnd.jupyter.widget-view+json": {
       "model_id": "",
       "version_major": 2,
       "version_minor": 0
      },
      "text/plain": [
       "FloatProgress(value=0.0, bar_style='info', description='Progress:', layout=Layout(height='25px', width='50%'),…"
      ]
     },
     "metadata": {},
     "output_type": "display_data"
    }
   ],
   "source": [
    "def entropy_positions(positions):\n",
    "\n",
    "    c = Counter(p for p in positions if p is not None)\n",
    "    lenc = len(c.values())\n",
    "    if lenc == 0:\n",
    "        return None\n",
    "    if lenc == 1:\n",
    "        return 0\n",
    "    sumc = sum(c.values())\n",
    "    probas = [p/sumc for p in c.values()]\n",
    "    e = 0\n",
    "    for pr in probas:\n",
    "        e -= pr * log(pr,2)\n",
    "    e = round(e/log(sumc,2),2)\n",
    "    return e\n",
    "\n",
    "pos_entropy_udf = F.udf(entropy_positions, FloatType())"
   ]
  },
  {
   "cell_type": "markdown",
   "metadata": {},
   "source": [
    "5. Apply all the udf functions to the df"
   ]
  },
  {
   "cell_type": "code",
   "execution_count": 25,
   "metadata": {},
   "outputs": [
    {
     "data": {
      "application/vnd.jupyter.widget-view+json": {
       "model_id": "",
       "version_major": 2,
       "version_minor": 0
      },
      "text/plain": [
       "FloatProgress(value=0.0, bar_style='info', description='Progress:', layout=Layout(height='25px', width='50%'),…"
      ]
     },
     "metadata": {},
     "output_type": "display_data"
    }
   ],
   "source": [
    "new_data = data.select('id', 'ts_list', 'pos_list', 'nb_cdr', dn_udf(\n",
    "F.col('ts_list')).alias('day_night'), ie_entropy_udf(F.col('ts_list')).alias('ie_entropy'), pos_entropy_udf(F.col('pos_list')).alias('pos_entropy'),\n",
    "    rg_udf(F.col('pos_list')).alias('rg'))  "
   ]
  },
  {
   "cell_type": "markdown",
   "metadata": {},
   "source": [
    "### The results "
   ]
  },
  {
   "cell_type": "code",
   "execution_count": 26,
   "metadata": {},
   "outputs": [
    {
     "data": {
      "application/vnd.jupyter.widget-view+json": {
       "model_id": "",
       "version_major": 2,
       "version_minor": 0
      },
      "text/plain": [
       "FloatProgress(value=0.0, bar_style='info', description='Progress:', layout=Layout(height='25px', width='50%'),…"
      ]
     },
     "metadata": {},
     "output_type": "display_data"
    },
    {
     "name": "stdout",
     "output_type": "stream",
     "text": [
      "+----------+---------+----------+------+-----+-----------+\n",
      "|        id|day_night|ie_entropy|nb_cdr|   rg|pos_entropy|\n",
      "+----------+---------+----------+------+-----+-----------+\n",
      "|0055555868|    [1,0]|      null|     1|  0.0|       null|\n",
      "|0055555984|   [58,4]|[333,0.96]|    62|0.177|        0.3|\n",
      "|0055556089|   [24,0]| [70,0.96]|    24|0.781|       0.45|\n",
      "|0055556368|    [3,1]| [832,1.0]|     4|0.174|        0.5|\n",
      "|0055556383|    [1,0]|      null|     1|  0.0|       null|\n",
      "|0055556411|    [1,0]|      null|     1|  0.0|       null|\n",
      "|0055556447|    [1,0]|      null|     1|  0.0|       null|\n",
      "|0055556511|    [1,0]|      null|     1|  0.0|       null|\n",
      "|0055556545| [180,10]|[127,0.83]|   190|0.294|       0.02|\n",
      "|0055556552|   [47,0]|[657,0.92]|    47|1.111|       0.45|\n",
      "|0055556678|  [35,41]|[156,0.88]|    76|1.413|       0.35|\n",
      "|0055556716|   [32,7]| [45,0.93]|    39|  0.0|       null|\n",
      "|0055557115|    [2,0]|      null|     2|  0.0|       null|\n",
      "|0055557214|    [6,3]| [999,1.0]|     9|0.257|       0.31|\n",
      "|0055557244|   [10,0]| [419,1.0]|    10|0.466|       0.29|\n",
      "|0055557258|   [49,0]|[393,0.94]|    49|0.426|       0.33|\n",
      "|0055557650|  [63,24]|[417,0.94]|    87|0.439|       0.22|\n",
      "|0055557916| [113,42]|[174,0.68]|   155|0.051|       0.01|\n",
      "|0055558035|    [9,0]| [143,1.0]|     9|1.596|       0.76|\n",
      "|0055558036|    [2,0]|      null|     2|  0.0|       null|\n",
      "+----------+---------+----------+------+-----+-----------+\n",
      "only showing top 20 rows"
     ]
    }
   ],
   "source": [
    "new_data.select('id', 'day_night', 'ie_entropy', 'nb_cdr', 'rg', 'pos_entropy').show()"
   ]
  },
  {
   "cell_type": "code",
   "execution_count": 27,
   "metadata": {},
   "outputs": [
    {
     "data": {
      "application/vnd.jupyter.widget-view+json": {
       "model_id": "",
       "version_major": 2,
       "version_minor": 0
      },
      "text/plain": [
       "FloatProgress(value=0.0, bar_style='info', description='Progress:', layout=Layout(height='25px', width='50%'),…"
      ]
     },
     "metadata": {},
     "output_type": "display_data"
    },
    {
     "name": "stdout",
     "output_type": "stream",
     "text": [
      "root\n",
      " |-- id: string (nullable = true)\n",
      " |-- ts_list: array (nullable = true)\n",
      " |    |-- element: timestamp (containsNull = true)\n",
      " |-- pos_list: array (nullable = true)\n",
      " |    |-- element: struct (containsNull = true)\n",
      " |    |    |-- lat: float (nullable = true)\n",
      " |    |    |-- long: float (nullable = true)\n",
      " |-- nb_cdr: integer (nullable = false)\n",
      " |-- day_night: struct (nullable = true)\n",
      " |    |-- nb_event_day: integer (nullable = true)\n",
      " |    |-- nb_event_night: integer (nullable = true)\n",
      " |-- ie_entropy: struct (nullable = true)\n",
      " |    |-- ie_avg: integer (nullable = true)\n",
      " |    |-- entropy: float (nullable = true)\n",
      " |-- pos_entropy: float (nullable = true)\n",
      " |-- rg: float (nullable = true)"
     ]
    }
   ],
   "source": [
    "new_data.printSchema()"
   ]
  },
  {
   "cell_type": "markdown",
   "metadata": {},
   "source": [
    "### Save the resulted df "
   ]
  },
  {
   "cell_type": "code",
   "execution_count": 29,
   "metadata": {},
   "outputs": [
    {
     "data": {
      "application/vnd.jupyter.widget-view+json": {
       "model_id": "",
       "version_major": 2,
       "version_minor": 0
      },
      "text/plain": [
       "FloatProgress(value=0.0, bar_style='info', description='Progress:', layout=Layout(height='25px', width='50%'),…"
      ]
     },
     "metadata": {},
     "output_type": "display_data"
    }
   ],
   "source": [
    "# sauvegarder le résultats\n",
    "new_data.repartition(1).write.parquet(\"/user/ngwh3132/WORK/cancan_project/3G_2W/df_phone_data.parquet\", mode='overwrite')"
   ]
  },
  {
   "cell_type": "markdown",
   "metadata": {},
   "source": [
    "# **THE END**"
   ]
  }
 ],
 "metadata": {
  "kernelspec": {
   "display_name": "PySpark",
   "language": "",
   "name": "pysparkkernel"
  },
  "language_info": {
   "codemirror_mode": {
    "name": "python",
    "version": 2
   },
   "mimetype": "text/x-python",
   "name": "pyspark",
   "pygments_lexer": "python2"
  }
 },
 "nbformat": 4,
 "nbformat_minor": 4
}
